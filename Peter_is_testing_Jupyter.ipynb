{
 "cells": [
  {
   "cell_type": "markdown",
   "metadata": {},
   "source": [
    "<center>\n",
    "    <img src=\"https://s3-api.us-geo.objectstorage.softlayer.net/cf-courses-data/CognitiveClass/Logos/organization_logo/organization_logo.png\" width=\"300\" alt=\"cognitiveclass.ai logo\"  />\n",
    "</center>\n"
   ]
  },
  {
   "cell_type": "markdown",
   "metadata": {},
   "source": [
    "#### Add your code below following the instructions given in the course\n"
   ]
  },
  {
   "cell_type": "markdown",
   "metadata": {},
   "source": [
    "# My Jupyter Notebook on IBM Watson Studio"
   ]
  },
  {
   "cell_type": "markdown",
   "metadata": {},
   "source": [
    "__Peter Farkas-Macsuga__\n",
    "\n",
    "Data Scientist"
   ]
  },
  {
   "cell_type": "markdown",
   "metadata": {},
   "source": [
    "_I am interested in data science because I am natural curious, and like to see the reasons behind situations. Besides of that I love numbers, statistics and of course coding which are key elements at this activity._"
   ]
  },
  {
   "cell_type": "markdown",
   "metadata": {},
   "source": [
    "### The following code will print out the sting <code>Data Science</code> 3 times, next to each other, separated by commas."
   ]
  },
  {
   "cell_type": "code",
   "execution_count": 2,
   "metadata": {},
   "outputs": [
    {
     "name": "stdout",
     "output_type": "stream",
     "text": [
      "Data Science, Data Science, Data Science\n"
     ]
    }
   ],
   "source": [
    "print(*('Data Science' for i in range(3)), sep=', ')"
   ]
  },
  {
   "cell_type": "markdown",
   "metadata": {},
   "source": [
    "This cell must include at least 3 of the following:\n",
    "*  horizontal rule\n",
    "*  bulleted list\n",
    "*  numbered list\n",
    "*  tables\n",
    "*  hyperlinks\n",
    "*  images\n",
    "*  code/syntax highlighting\n",
    "*  blocked quotes\n",
    "*  strikethrough\n",
    "\n",
    "As per the bulleted list is done, let's see for example:\n",
    "1.  tables\n",
    "2.  hyperlinks\n",
    "3.  and code syntax\n",
    "\n",
    "\n",
    "An example of a table:\n",
    "|Language     |   Since when (year)  |  example for IDE|\n",
    "|:------------|:--------------------:|----------------:|\n",
    "|Python       |        1990          | Jupyter Notebook|\n",
    "|R            |        1993          |          RStudio|\n",
    "|Java         |        1995          |          Eclipse|\n",
    "|Julia        |        2012          |             Juno|\n",
    "\n",
    "_Source: <a href=\"https://en.wikipedia.org/wiki/Computer_language\">Wikipedia link</a>_\n",
    "\n",
    "Now, we saw a table and a hyperlink, let's now see a code syntax with a `print()` statement:\n",
    "```python\n",
    "name = Peter\n",
    "print(f'Hi {name}, how are you?')\n",
    "```"
   ]
  }
 ],
 "metadata": {
  "kernelspec": {
   "display_name": "Python",
   "language": "python",
   "name": "conda-env-python-py"
  },
  "language_info": {
   "codemirror_mode": {
    "name": "ipython",
    "version": 3
   },
   "file_extension": ".py",
   "mimetype": "text/x-python",
   "name": "python",
   "nbconvert_exporter": "python",
   "pygments_lexer": "ipython3",
   "version": "3.7.12"
  }
 },
 "nbformat": 4,
 "nbformat_minor": 4
}
